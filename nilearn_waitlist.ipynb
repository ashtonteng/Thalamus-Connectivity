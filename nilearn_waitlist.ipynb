{
 "cells": [
  {
   "cell_type": "code",
   "execution_count": null,
   "metadata": {
    "collapsed": true
   },
   "outputs": [],
   "source": [
    "img_data_cut = img_data[:,:,:,300]\n",
    "img_cut = nib.Nifti1Image(img_cut, img.affine)\n",
    "nib.save(img_cut,'img_cut1.nii')\n",
    "cut = nib.load('img_cut.nii')"
   ]
  },
  {
   "cell_type": "code",
   "execution_count": null,
   "metadata": {
    "collapsed": true
   },
   "outputs": [],
   "source": [
    "\"\"\"Loading stim_site_mask\"\"\"\n",
    "stim_mask_img = nib.load(stim_mask_path) #niftiimg\n",
    "stim_mask_data = stim_mask_img.get_data() #numpy array\n",
    "stim_mask_data.shape\n",
    "stim_site_activity_vectors = apply_mask(img, stim_mask_img) #numpy array (600, 33)\n",
    "stim_site_activity_vectors_avg = np.mean(stim_site_activity_vectors, axis=1)\n",
    "stim_site_activity_vectors_avg.shape"
   ]
  },
  {
   "cell_type": "code",
   "execution_count": null,
   "metadata": {
    "collapsed": true
   },
   "outputs": [],
   "source": [
    "\"\"\"Plotting the stimulation site time series\"\"\"\n",
    "import matplotlib.pyplot as plt\n",
    "for time_series, label in zip(stim_site_time_series.T, stim_site_label):\n",
    "    plt.plot(time_series, label=label)\n",
    "plt.title('Stimulation Site Time Series')\n",
    "plt.xlabel('Scan number')\n",
    "plt.ylabel('Signal')\n",
    "plt.legend()\n",
    "plt.tight_layout()"
   ]
  },
  {
   "cell_type": "code",
   "execution_count": null,
   "metadata": {
    "collapsed": true
   },
   "outputs": [],
   "source": [
    "#uses mask_data to get masked voxels. Gets all Non-Zero voxels.\n",
    "def get_masked_voxels(mask_data):\n",
    "    masked_voxels = []\n",
    "    for x in range(0, mask_data.shape[0]):\n",
    "        for y in range(0, mask_data.shape[1]):\n",
    "            for z in range(0, mask_data.shape[2]):\n",
    "                if mask_data[x, y, z] != 0:\n",
    "                    masked_voxels.append((x, y, z))\n",
    "    return masked_voxels"
   ]
  },
  {
   "cell_type": "code",
   "execution_count": null,
   "metadata": {
    "collapsed": true
   },
   "outputs": [],
   "source": [
    "import math\n",
    "global zero_voxel\n",
    "zero_reference_mask = nib.load('/Users/hellwalker/Desktop/scans/reference_sites/zero_reference.nii.gz')\n",
    "zero_reference_mask_data = zero_reference_mask.get_data()\n",
    "zero_voxel = get_masked_voxels(zero_reference_mask_data)[0]\n",
    "\n",
    "def mni2voxel(voxel):\n",
    "    return (math.ceil(voxel[0]/2) + zero_voxel[0], math.ceil(voxel[1]/2) + zero_voxel[1], math.ceil(voxel[2]/2) \n",
    "            + zero_voxel[2])\n",
    "def voxel2mni(voxel):\n",
    "    return ((voxel[0] - zero_voxel[0])*2, (voxel[1] - zero_voxel[1])*2, (voxel[2] - zero_voxel[2])*2)"
   ]
  },
  {
   "cell_type": "code",
   "execution_count": null,
   "metadata": {
    "collapsed": true
   },
   "outputs": [],
   "source": [
    "thalamus_voxels = get_masked_voxels(thalamus_mask_data)\n",
    "#thalamus_voxels_mni = [voxel2mni(voxel) for voxel in thalamus_voxels]\n",
    "thalamus_voxels_mni = thalamus_voxels"
   ]
  },
  {
   "cell_type": "code",
   "execution_count": null,
   "metadata": {
    "collapsed": true
   },
   "outputs": [],
   "source": [
    "from nilearn import input_data\n",
    "thalamus_masker = input_data.NiftiSpheresMasker(seeds=thalamus_voxels_mni, allow_overlap=True)\n",
    "thalamus_time_series = thalamus_masker.fit_transform(img)\n",
    "thalamus_time_series.shape"
   ]
  },
  {
   "cell_type": "code",
   "execution_count": null,
   "metadata": {
    "collapsed": true
   },
   "outputs": [],
   "source": [
    "labels = list(thalamus_voxels_mni)\n",
    "from nilearn.connectome import ConnectivityMeasure\n",
    "connectivity_measure = ConnectivityMeasure(kind='partial correlation')\n",
    "partial_correlation_matrix = connectivity_measure.fit_transform(\n",
    "    [thalamus_time_series])[0]\n",
    "from nilearn import plotting\n",
    "\n",
    "plotting.plot_connectome(partial_correlation_matrix, thalamus_voxels_mni,\n",
    "                         title=\"Default Mode Network Connectivity\")\n",
    "\n",
    "# Display connectome with hemispheric projections.\n",
    "# Notice (0, -52, 18) is included in both hemispheres since x == 0.\n",
    "title = \"Connectivity projected on hemispheres\"\n",
    "plotting.plot_connectome(partial_correlation_matrix, thalamus_voxels_mni, title=title,\n",
    "                         display_mode='lyrz')\n",
    "\n",
    "plotting.show()"
   ]
  },
  {
   "cell_type": "code",
   "execution_count": null,
   "metadata": {
    "collapsed": true
   },
   "outputs": [],
   "source": [
    "labels = list(thalamus_voxels_mni)\n",
    "from nilearn.connectome import ConnectivityMeasure\n",
    "connectivity_measure = ConnectivityMeasure(kind='partial correlation')\n",
    "partial_correlation_matrix = connectivity_measure.fit_transform(\n",
    "    [thalamus_activity_vectors])[0]\n",
    "from nilearn import plotting\n",
    "\n",
    "plotting.plot_connectome(partial_correlation_matrix, thalamus_voxels_mni,\n",
    "                         title=\"Default Mode Network Connectivity\")\n",
    "\n",
    "# Display connectome with hemispheric projections.\n",
    "# Notice (0, -52, 18) is included in both hemispheres since x == 0.\n",
    "title = \"Connectivity projected on hemispheres\"\n",
    "plotting.plot_connectome(partial_correlation_matrix, thalamus_voxels_mni, title=title,\n",
    "                         display_mode='lyrz')\n",
    "\n",
    "plotting.show()"
   ]
  },
  {
   "cell_type": "code",
   "execution_count": null,
   "metadata": {
    "collapsed": true
   },
   "outputs": [],
   "source": [
    "from nilearn import datasets\n",
    "\n",
    "dataset = datasets.fetch_atlas_harvard_oxford('cort-maxprob-thr25-2mm')\n",
    "atlas_filename, labels = dataset.maps, dataset.labels\n",
    "\n",
    "print('Atlas ROIs are located in nifti image (4D) at: %s' %\n",
    "      atlas_filename)  # 4D data\n",
    "\n",
    "# One subject of resting-state data\n",
    "data = datasets.fetch_adhd(n_subjects=1)\n",
    "fmri_filenames = data.func[0]\n",
    "print(dataset)"
   ]
  },
  {
   "cell_type": "code",
   "execution_count": null,
   "metadata": {
    "collapsed": true
   },
   "outputs": [],
   "source": [
    "from sklearn.svm import SVC\n",
    "svc = SVC(kernel='linear', C=1.)\n",
    "from sklearn import datasets\n",
    "digits = datasets.load_digits()\n",
    "data = digits.data\n",
    "labels = digits.target\n",
    "svc.fit(data[:-10], labels[:-10]) \n",
    "svc.predict(data[-10:])  "
   ]
  },
  {
   "cell_type": "code",
   "execution_count": null,
   "metadata": {
    "collapsed": true
   },
   "outputs": [],
   "source": [
    "\"\"\"\n",
    "import numpy as np\n",
    "correlation_matrix = np.corrcoef(time_series.T)\n",
    "print correlation_matrix.shape\n",
    "\n",
    "# Plot the correlation matrix\n",
    "from matplotlib import pyplot as plt\n",
    "plt.figure(figsize=(40, 40))\n",
    "# Mask the main diagonal for visualization:\n",
    "np.fill_diagonal(correlation_matrix, 0)\n",
    "\n",
    "plt.imshow(correlation_matrix, interpolation=\"nearest\", cmap=\"RdBu_r\",\n",
    "           vmax=0.8, vmin=-0.8)\n",
    "\n",
    "# Add labels and adjust margins\n",
    "x_ticks = plt.xticks(range(len(labels) - 1), labels[1:], rotation=90)\n",
    "y_ticks = plt.yticks(range(len(labels) - 1), labels[1:])\n",
    "plt.gca().yaxis.tick_right()\n",
    "plt.subplots_adjust(left=.01, bottom=.3, top=.99, right=.62)\n",
    "\"\"\""
   ]
  },
  {
   "cell_type": "code",
   "execution_count": null,
   "metadata": {
    "collapsed": true
   },
   "outputs": [],
   "source": []
  },
  {
   "cell_type": "code",
   "execution_count": null,
   "metadata": {
    "collapsed": true
   },
   "outputs": [],
   "source": []
  },
  {
   "cell_type": "code",
   "execution_count": null,
   "metadata": {
    "collapsed": true
   },
   "outputs": [],
   "source": []
  },
  {
   "cell_type": "code",
   "execution_count": null,
   "metadata": {
    "collapsed": true
   },
   "outputs": [],
   "source": []
  },
  {
   "cell_type": "code",
   "execution_count": null,
   "metadata": {
    "collapsed": true
   },
   "outputs": [],
   "source": []
  },
  {
   "cell_type": "code",
   "execution_count": null,
   "metadata": {
    "collapsed": true
   },
   "outputs": [],
   "source": []
  },
  {
   "cell_type": "code",
   "execution_count": null,
   "metadata": {
    "collapsed": true
   },
   "outputs": [],
   "source": []
  },
  {
   "cell_type": "code",
   "execution_count": null,
   "metadata": {
    "collapsed": true
   },
   "outputs": [],
   "source": []
  },
  {
   "cell_type": "code",
   "execution_count": null,
   "metadata": {
    "collapsed": true
   },
   "outputs": [],
   "source": []
  },
  {
   "cell_type": "code",
   "execution_count": null,
   "metadata": {
    "collapsed": true
   },
   "outputs": [],
   "source": []
  },
  {
   "cell_type": "code",
   "execution_count": null,
   "metadata": {
    "collapsed": true
   },
   "outputs": [],
   "source": []
  }
 ],
 "metadata": {
  "anaconda-cloud": {},
  "kernelspec": {
   "display_name": "Python 3",
   "language": "python",
   "name": "python3"
  },
  "language_info": {
   "codemirror_mode": {
    "name": "ipython",
    "version": 3
   },
   "file_extension": ".py",
   "mimetype": "text/x-python",
   "name": "python",
   "nbconvert_exporter": "python",
   "pygments_lexer": "ipython3",
   "version": "3.5.1"
  }
 },
 "nbformat": 4,
 "nbformat_minor": 0
}
