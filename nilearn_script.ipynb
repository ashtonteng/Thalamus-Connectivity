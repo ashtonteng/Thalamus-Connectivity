{
 "cells": [
  {
   "cell_type": "code",
   "execution_count": 2,
   "metadata": {
    "collapsed": true
   },
   "outputs": [],
   "source": [
    "%matplotlib inline\n",
    "import numpy as np\n",
    "import scipy as sp\n",
    "from scipy import stats\n",
    "import os\n",
    "import nibabel as nib\n",
    "import nilearn\n",
    "from nilearn import plotting, image\n",
    "from nilearn import input_data\n",
    "import matplotlib.pyplot as plt\n",
    "from nilearn.input_data import NiftiLabelsMasker, NiftiMasker"
   ]
  },
  {
   "cell_type": "code",
   "execution_count": 3,
   "metadata": {
    "collapsed": true
   },
   "outputs": [],
   "source": [
    "Subject = \"606\"\n",
    "Run = \"2\"\n",
    "stim_site_coord = [(59, -56, 47)]\n",
    "data_path = \"/Users/hellwalker/Desktop/scans/\" + Subject + \"/Run\" + Run + \"/preproc_functinal.nii.gz\"\n",
    "thalamus_mask_path = \"/Users/hellwalker/Desktop/scans/Morel_Mask_LPI_2mm.nii.gz\"\n",
    "ROI_mask_path = '/Users/hellwalker/Desktop/scans/Gordon_333_cortical_2mm.nii.gz'"
   ]
  },
  {
   "cell_type": "markdown",
   "metadata": {},
   "source": [
    "## Utility Functions"
   ]
  },
  {
   "cell_type": "code",
   "execution_count": 4,
   "metadata": {
    "collapsed": true
   },
   "outputs": [],
   "source": [
    "def apply_mask(image, mask_image):\n",
    "    masker = NiftiMasker(mask_img=mask_image)\n",
    "    masker.fit()\n",
    "    signal = masker.transform(image)\n",
    "    return signal"
   ]
  },
  {
   "cell_type": "code",
   "execution_count": 5,
   "metadata": {
    "collapsed": true
   },
   "outputs": [],
   "source": [
    "def get_correlation_dict(time_series, seed):\n",
    "    \"\"\"timeseries # : correlation between that timeseries and the seed.\"\"\"\n",
    "    correlation_dict = {}\n",
    "    for i, time_serie in enumerate(time_series):\n",
    "        correlation_dict[i] = sp.stats.pearsonr(seed, time_serie)[0]\n",
    "    return correlation_dict"
   ]
  },
  {
   "cell_type": "code",
   "execution_count": 6,
   "metadata": {
    "collapsed": true
   },
   "outputs": [],
   "source": [
    "def get_highest_correlation_key(correlation_dict):\n",
    "    highest_correlation_key = max(correlation_dict, key=lambda x: correlation_dict[x])\n",
    "    print(\"best is element\", highest_correlation_key, \"with correlation\", correlation_dict[highest_correlation_key])\n",
    "    return highest_correlation_key"
   ]
  },
  {
   "cell_type": "markdown",
   "metadata": {},
   "source": [
    "## Loading the Image"
   ]
  },
  {
   "cell_type": "code",
   "execution_count": 7,
   "metadata": {
    "collapsed": false
   },
   "outputs": [],
   "source": [
    "\"\"\"Load image\"\"\"\n",
    "img = nib.load(data_path)\n",
    "img_data = img.get_data()"
   ]
  },
  {
   "cell_type": "markdown",
   "metadata": {},
   "source": [
    "## Getting the Stimulation Site Time Series"
   ]
  },
  {
   "cell_type": "code",
   "execution_count": 8,
   "metadata": {
    "collapsed": false
   },
   "outputs": [],
   "source": [
    "stim_site_label = list(stim_site_coord)\n",
    "stim_site_masker = input_data.NiftiSpheresMasker(seeds = stim_site_coord, radius = 4, allow_overlap = True)\n",
    "stim_site_time_series = stim_site_masker.fit_transform(img)\n",
    "stim_site_time_series = stim_site_time_series.reshape((600,))"
   ]
  },
  {
   "cell_type": "markdown",
   "metadata": {},
   "source": [
    "## Finding the best correlated thalamus voxel with stim_site"
   ]
  },
  {
   "cell_type": "code",
   "execution_count": 9,
   "metadata": {
    "collapsed": false
   },
   "outputs": [
    {
     "ename": "NameError",
     "evalue": "name 'stim_mask_path' is not defined",
     "output_type": "error",
     "traceback": [
      "\u001b[0;31m---------------------------------------------------------------------------\u001b[0m",
      "\u001b[0;31mNameError\u001b[0m                                 Traceback (most recent call last)",
      "\u001b[0;32m<ipython-input-9-92ebc2b97f30>\u001b[0m in \u001b[0;36m<module>\u001b[0;34m()\u001b[0m\n\u001b[1;32m      1\u001b[0m \u001b[0;34m\"\"\"Loading thalamus_mask\"\"\"\u001b[0m\u001b[0;34m\u001b[0m\u001b[0m\n\u001b[0;32m----> 2\u001b[0;31m \u001b[0mthalamus_mask_img\u001b[0m \u001b[0;34m=\u001b[0m \u001b[0mnib\u001b[0m\u001b[0;34m.\u001b[0m\u001b[0mload\u001b[0m\u001b[0;34m(\u001b[0m\u001b[0mstim_mask_path\u001b[0m\u001b[0;34m)\u001b[0m\u001b[0;34m\u001b[0m\u001b[0m\n\u001b[0m\u001b[1;32m      3\u001b[0m \u001b[0mthalamus_mask_data\u001b[0m \u001b[0;34m=\u001b[0m \u001b[0mthalamus_mask_img\u001b[0m\u001b[0;34m.\u001b[0m\u001b[0mget_data\u001b[0m\u001b[0;34m(\u001b[0m\u001b[0;34m)\u001b[0m\u001b[0;34m\u001b[0m\u001b[0m\n",
      "\u001b[0;31mNameError\u001b[0m: name 'stim_mask_path' is not defined"
     ]
    }
   ],
   "source": [
    "\"\"\"Loading thalamus_mask\"\"\"\n",
    "thalamus_mask_img = nib.load(stim_mask_path)\n",
    "thalamus_mask_data = thalamus_mask_img.get_data()"
   ]
  },
  {
   "cell_type": "code",
   "execution_count": null,
   "metadata": {
    "collapsed": false
   },
   "outputs": [],
   "source": [
    "thalamus_time_series = apply_mask(img, thalamus_mask_img)\n",
    "thalamus_corr_dict = get_correlation_dict(thalamus_time_series.T, stim_site_time_series)\n",
    "best_thalamus_voxel = get_highest_correlation_key(thalamus_corr_dict)\n",
    "best_thalamus_voxel_time_series = thalamus_time_series.T[best_thalamus_voxel]"
   ]
  },
  {
   "cell_type": "markdown",
   "metadata": {},
   "source": [
    "## Computing the time series for 333 ROIs"
   ]
  },
  {
   "cell_type": "code",
   "execution_count": null,
   "metadata": {
    "collapsed": false,
    "scrolled": true
   },
   "outputs": [],
   "source": [
    "ROI_labels = np.arange(333)\n",
    "#plotting.plot_roi(atlas_filename)\n",
    "ROI_masker = NiftiLabelsMasker(labels_img=ROI_mask_path)\n",
    "global ROI_time_series\n",
    "ROI_time_series = ROI_masker.fit_transform(img)"
   ]
  },
  {
   "cell_type": "code",
   "execution_count": null,
   "metadata": {
    "collapsed": true
   },
   "outputs": [],
   "source": [
    "def get_top_20(ROI_time_series, seed_time_series):\n",
    "    ROI_corr_dict = get_correlation_dict(ROI_time_series.T, seed_time_series)\n",
    "    best_ROI = get_highest_correlation_key(ROI_corr_dict)\n",
    "    import operator\n",
    "    sorted_dict = sorted(ROI_corr_dict.items(), key=operator.itemgetter(1))\n",
    "    best_20_with_corr = sorted_dict[-20:][::-1]\n",
    "    best_20 = [item[0] for item in best_20_with_corr]\n",
    "    return best_20"
   ]
  },
  {
   "cell_type": "markdown",
   "metadata": {},
   "source": [
    "## Finding the best correlated 20 ROIs with stim_site and best_thalamus_voxel"
   ]
  },
  {
   "cell_type": "code",
   "execution_count": null,
   "metadata": {
    "collapsed": false
   },
   "outputs": [],
   "source": [
    "print(\"Subject\", Subject, \"Run\", Run)\n",
    "print(\"---\")\n",
    "stim_site_ROI_rank = get_top_20(ROI_time_series, stim_site_time_series) \n",
    "print(\"stim_site_ROI_rank:\", stim_site_ROI_rank)\n",
    "print(\"---\")\n",
    "best_thalamus_voxel_ROI_rank = get_top_20(ROI_time_series, best_thalamus_voxel_time_series) \n",
    "print(\"best_thalamus_voxel_ROI_rank:\", best_thalamus_voxel_ROI_rank)\n",
    "print(\"---\")\n",
    "print(\"common ROIs:\", [i for i in stim_site_ROI_rank if i in best_thalamus_voxel_ROI_rank])\n",
    "print(\"---\")"
   ]
  },
  {
   "cell_type": "code",
   "execution_count": null,
   "metadata": {
    "collapsed": true
   },
   "outputs": [],
   "source": []
  }
 ],
 "metadata": {
  "anaconda-cloud": {},
  "kernelspec": {
   "display_name": "Python 3",
   "language": "python",
   "name": "python3"
  },
  "language_info": {
   "codemirror_mode": {
    "name": "ipython",
    "version": 3
   },
   "file_extension": ".py",
   "mimetype": "text/x-python",
   "name": "python",
   "nbconvert_exporter": "python",
   "pygments_lexer": "ipython3",
   "version": "3.5.1"
  }
 },
 "nbformat": 4,
 "nbformat_minor": 0
}
